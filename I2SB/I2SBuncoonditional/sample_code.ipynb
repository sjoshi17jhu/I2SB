{
 "cells": [
  {
   "cell_type": "code",
   "execution_count": null,
   "outputs": [],
   "source": [
    "### to generate WSI tiles:"
   ],
   "metadata": {
    "collapsed": false
   },
   "id": "d32024df30baf6d1"
  },
  {
   "cell_type": "code",
   "execution_count": null,
   "id": "initial_id",
   "metadata": {
    "collapsed": true
   },
   "outputs": [],
   "source": [
    "### this is for 6520-003-vessels.tif, using iter_24388 of test-run-4:\n",
    "python sample.py --ckpt \"test-run-4\" --n-gpu-per-node 1 --dataset-dir C:\\Users\\labuser\\Desktop\\6520-003-vessels --batch-size 1 --nfe 999"
   ]
  },
  {
   "cell_type": "code",
   "execution_count": null,
   "outputs": [],
   "source": [
    "### this is for 6520-002-islet.tif, using iter_24388 of test-run-4 but with nfe 500\n",
    "python sample.py --save-every 50 --corrupt \"mixture\" --ckpt \"test-run-4\" --n-gpu-per-node 1 --dataset-dir C:\\Users\\labuser\\Desktop\\6520-002-immune --batch-size 1 --nfe 500"
   ],
   "metadata": {
    "collapsed": false
   },
   "id": "ad5ba27b625b6ba2"
  },
  {
   "cell_type": "code",
   "execution_count": null,
   "outputs": [],
   "source": [
    "### this is for dataset_v1_256x256_sample1 only, for cond I2SB nfe=125:\n",
    "python sample.py --cond-x1 --corrupt \"mixture\" --save-every 50 --ckpt \"test-run-seg-map-cond\" --n-gpu-per-node 1 --dataset-dir C:\\Users\\labuser\\Desktop\\dataset_v1_256x256_sample1 --batch-size 1 --nfe 125"
   ],
   "metadata": {
    "collapsed": false
   },
   "id": "64287293ed4414f9"
  },
  {
   "cell_type": "code",
   "execution_count": null,
   "outputs": [],
   "source": [
    "### this is for dataset_v1_256x256_sample1 only, for cond I2SB nfe=62:\n",
    "python sample.py --cond-x1 --corrupt \"mixture\" --save-every 50 --ckpt \"test-run-seg-map-cond\" --n-gpu-per-node 1 --dataset-dir C:\\Users\\labuser\\Desktop\\dataset_v1_256x256_sample1 --batch-size 1 --nfe 62"
   ],
   "metadata": {
    "collapsed": false
   },
   "id": "8201849978ec5666"
  },
  {
   "cell_type": "code",
   "execution_count": null,
   "outputs": [],
   "source": [
    "### this is for dataset_v1_256x256_sample1 only, for cond I2SB nfe=15:\n",
    "python sample.py --cond-x1 --corrupt \"mixture\" --save-every 50 --ckpt \"test-run-seg-map-cond\" --n-gpu-per-node 1 --dataset-dir C:\\Users\\labuser\\Desktop\\dataset_v1_256x256_sample1 --batch-size 1 --nfe 15"
   ],
   "metadata": {
    "collapsed": false
   },
   "id": "a9dc4d72400b92fc"
  },
  {
   "cell_type": "code",
   "execution_count": null,
   "outputs": [],
   "source": [
    "### HE2IHC unconditional sampling for uncond I2SB nfe=62\n",
    "### latest is 16470.\n",
    "python sample.py --corrupt \"mixture\" --save-every 50 --ckpt \"HE2IHC_uncond\" --n-gpu-per-node 1 --dataset-dir C:\\Users\\labuser\\Desktop\\HE2IHC_256x256 --batch-size 1 --nfe 62"
   ],
   "metadata": {
    "collapsed": false
   },
   "id": "6456c12207a8cc04"
  },
  {
   "cell_type": "code",
   "execution_count": 1,
   "outputs": [
    {
     "ename": "SyntaxError",
     "evalue": "invalid syntax (289187989.py, line 2)",
     "output_type": "error",
     "traceback": [
      "\u001B[1;36m  Cell \u001B[1;32mIn[1], line 2\u001B[1;36m\u001B[0m\n\u001B[1;33m    python sample.py --corrupt \"mixture\" --save-every 50 --ckpt \"HE2IHC_uncond\" --n-gpu-per-node 1 --dataset-dir C:\\Users\\labuser\\Desktop\\tiles_islet_03072024 --batch-size 1 --nfe 62\u001B[0m\n\u001B[1;37m           ^\u001B[0m\n\u001B[1;31mSyntaxError\u001B[0m\u001B[1;31m:\u001B[0m invalid syntax\n"
     ]
    }
   ],
   "source": [
    "# 3/13/24\n",
    "python sample.py --corrupt \"mixture\" --save-every 50 --ckpt \"HE2IHC_uncond\" --n-gpu-per-node 1 --dataset-dir C:\\Users\\labuser\\Desktop\\tiles_islet_03072024 --batch-size 1 --nfe 62\n",
    "\n"
   ],
   "metadata": {
    "collapsed": false,
    "ExecuteTime": {
     "end_time": "2024-03-13T17:44:57.788324100Z",
     "start_time": "2024-03-13T17:44:57.776746700Z"
    }
   },
   "id": "3b4d863731fe9c4d"
  },
  {
   "cell_type": "code",
   "execution_count": 1,
   "outputs": [
    {
     "ename": "SyntaxError",
     "evalue": "invalid syntax (181967773.py, line 2)",
     "output_type": "error",
     "traceback": [
      "\u001B[1;36m  Cell \u001B[1;32mIn[1], line 2\u001B[1;36m\u001B[0m\n\u001B[1;33m    python sample.py --corrupt \"mixture\" --save-every 50 --ckpt \"HE2IHC_uncond_aug3\" --n-gpu-per-node 1 --dataset-dir C:\\Users\\labuser\\Desktop\\tiles_islet_03072024_augment_3 --batch-size 1 --nfe 62\u001B[0m\n\u001B[1;37m           ^\u001B[0m\n\u001B[1;31mSyntaxError\u001B[0m\u001B[1;31m:\u001B[0m invalid syntax\n"
     ]
    }
   ],
   "source": [
    "# 4/17/24\n",
    "python sample.py --corrupt \"mixture\" --save-every 50 --ckpt \"HE2IHC_uncond_aug3\" --n-gpu-per-node 1 --dataset-dir C:\\Users\\labuser\\Desktop\\tiles_islet_03072024_augment_3 --batch-size 1 --nfe 62"
   ],
   "metadata": {
    "collapsed": false,
    "ExecuteTime": {
     "end_time": "2024-04-17T13:16:08.203376200Z",
     "start_time": "2024-04-17T13:16:08.195570400Z"
    }
   },
   "id": "27785a1e44df0dfa"
  },
  {
   "cell_type": "code",
   "execution_count": 4,
   "outputs": [],
   "source": [
    "import torch\n",
    "from PIL import Image\n",
    "import numpy as np\n",
    "from tqdm import tqdm\n",
    "import os\n",
    "\n",
    "def post_process_ddpm_sampling(pt_path, run_name, iter_name, pred_save_path, validation_HE_path):\n",
    "    '''\n",
    "    Input:\n",
    "    pt_path: Path to .pt file, which is output of sample.py from I2SB, which contains prediction tensors.\n",
    "    pred_save_path: Path to save inferred images to.\n",
    "    validation_HE)path: Path that contains the validation HE images (GT image). Used to extract names. Make sure it has same order as the path for validation IHC images.\n",
    "    '''\n",
    "    images = torch.load(\n",
    "        pt_path)  #images[\"label_arr\"] holds the GT image, but this is already stored in the val/HE folder.\n",
    "    arrs = images[\n",
    "        \"arr\"]  #the order is the same as how the file is sorted in val/HE folder, so we find the respective image names from there.\n",
    "    total_num_imgs = arrs.size()[0]\n",
    "    all_val_image_names = [x.replace(\".png\", \"_inferred.png\") for x in os.listdir(validation_HE_path) if\n",
    "                           x.endswith(\".png\")]\n",
    "    pred_save_path = os.path.join(pred_save_path, run_name)\n",
    "    if not os.path.exists(pred_save_path):\n",
    "        os.makedirs(pred_save_path)\n",
    "    pred_save_path = os.path.join(pred_save_path, iter_name)\n",
    "    if not os.path.exists(pred_save_path):\n",
    "        os.makedirs(pred_save_path)\n",
    "    for idx in tqdm(range(0, total_num_imgs), colour=\"red\", desc=\"Number of images\"):\n",
    "        pred_image = arrs[idx].permute(1, 2, 0).numpy()\n",
    "        pred_image = (pred_image + 1) / 2.0\n",
    "        pred_image = (pred_image * 255).astype(np.uint8)\n",
    "        pred_image_save_path = os.path.join(pred_save_path, all_val_image_names[idx])\n",
    "        Image.fromarray(pred_image).save(pred_image_save_path)\n",
    "    print(\"Images all successfully saved!\")"
   ],
   "metadata": {
    "collapsed": false,
    "ExecuteTime": {
     "end_time": "2024-04-17T17:36:57.935509400Z",
     "start_time": "2024-04-17T17:36:56.584743Z"
    }
   },
   "id": "862d39a685259f0a"
  },
  {
   "cell_type": "code",
   "execution_count": 2,
   "outputs": [
    {
     "name": "stderr",
     "output_type": "stream",
     "text": [
      "Number of images: 100%|\u001B[31m██████████\u001B[0m| 4246/4246 [00:45<00:00, 93.14it/s] "
     ]
    },
    {
     "name": "stdout",
     "output_type": "stream",
     "text": [
      "Images all successfully saved!\n"
     ]
    },
    {
     "name": "stderr",
     "output_type": "stream",
     "text": [
      "\n"
     ]
    }
   ],
   "source": [
    "post_process_ddpm_sampling(pt_path=r\"C:\\Users\\labuser\\PycharmProjects\\I2SB\\results\\test-run-4\\samples_nfe500\\recon.pt\", run_name = \"test-run-4\",\n",
    "                           iter_name = \"iter_24388\",\n",
    "                           pred_save_path = r\"C:\\Users\\labuser\\Desktop\\6520-002-immune\\infer\",\n",
    "                           validation_HE_path= r\"C:\\Users\\labuser\\Desktop\\6520-002-immune\\val\\IHC\")"
   ],
   "metadata": {
    "collapsed": false,
    "ExecuteTime": {
     "end_time": "2024-01-09T18:25:32.435537300Z",
     "start_time": "2024-01-09T18:24:45.687326700Z"
    }
   },
   "id": "379568e454ae4d87"
  },
  {
   "cell_type": "code",
   "execution_count": 3,
   "outputs": [
    {
     "name": "stderr",
     "output_type": "stream",
     "text": [
      "Number of images: 100%|\u001B[31m██████████\u001B[0m| 3680/3680 [00:42<00:00, 85.93it/s] \n"
     ]
    },
    {
     "name": "stdout",
     "output_type": "stream",
     "text": [
      "Images all successfully saved!\n"
     ]
    }
   ],
   "source": [
    "post_process_ddpm_sampling(pt_path=r\"C:\\Users\\labuser\\PycharmProjects\\I2SB\\results\\test-run-seg-map-cond\\samples_nfe125\\recon.pt\", run_name = \"test-run-seg-map-cond\",\n",
    "                           iter_name = \"iter_19656\",\n",
    "                           pred_save_path = r\"C:\\Users\\labuser\\Desktop\\dataset_v1_256x256_sample1\\infer\",\n",
    "                           validation_HE_path= r\"C:\\Users\\labuser\\Desktop\\dataset_v1_256x256_sample1\\val\\IHC\")"
   ],
   "metadata": {
    "collapsed": false,
    "ExecuteTime": {
     "end_time": "2024-01-10T20:02:25.219327900Z",
     "start_time": "2024-01-10T20:01:41.263869900Z"
    }
   },
   "id": "1f60c29f22bb2eb1"
  },
  {
   "cell_type": "code",
   "execution_count": 3,
   "outputs": [
    {
     "name": "stderr",
     "output_type": "stream",
     "text": [
      "Number of images: 100%|\u001B[31m██████████\u001B[0m| 3680/3680 [00:39<00:00, 93.45it/s] \n"
     ]
    },
    {
     "name": "stdout",
     "output_type": "stream",
     "text": [
      "Images all successfully saved!\n"
     ]
    }
   ],
   "source": [
    "post_process_ddpm_sampling(pt_path=r\"C:\\Users\\labuser\\PycharmProjects\\I2SB\\results\\test-run-seg-map-cond\\samples_nfe62\\recon.pt\", run_name = \"test-run-seg-map-cond\",\n",
    "                           iter_name = \"iter_19656\",\n",
    "                           pred_save_path = r\"C:\\Users\\labuser\\Desktop\\dataset_v1_256x256_sample1\\infer\",\n",
    "                           validation_HE_path= r\"C:\\Users\\labuser\\Desktop\\dataset_v1_256x256_sample1\\val\\IHC\")"
   ],
   "metadata": {
    "collapsed": false,
    "ExecuteTime": {
     "end_time": "2024-01-11T13:18:10.640996700Z",
     "start_time": "2024-01-11T13:17:30.274394400Z"
    }
   },
   "id": "aabd40995fe6d58a"
  },
  {
   "cell_type": "code",
   "execution_count": 4,
   "outputs": [
    {
     "name": "stderr",
     "output_type": "stream",
     "text": [
      "Number of images: 100%|\u001B[31m██████████\u001B[0m| 3680/3680 [00:38<00:00, 95.24it/s] "
     ]
    },
    {
     "name": "stdout",
     "output_type": "stream",
     "text": [
      "Images all successfully saved!\n"
     ]
    },
    {
     "name": "stderr",
     "output_type": "stream",
     "text": [
      "\n"
     ]
    }
   ],
   "source": [
    "post_process_ddpm_sampling(pt_path=r\"C:\\Users\\labuser\\PycharmProjects\\I2SB\\results\\test-run-seg-map-cond\\samples_nfe15\\recon.pt\", run_name = \"test-run-seg-map-cond\",\n",
    "                           iter_name = \"iter_19656\",\n",
    "                           pred_save_path = r\"C:\\Users\\labuser\\Desktop\\dataset_v1_256x256_sample1\\infer\",\n",
    "                           validation_HE_path= r\"C:\\Users\\labuser\\Desktop\\dataset_v1_256x256_sample1\\val\\IHC\")"
   ],
   "metadata": {
    "collapsed": false,
    "ExecuteTime": {
     "end_time": "2024-01-11T15:12:07.656320600Z",
     "start_time": "2024-01-11T15:11:28.017397400Z"
    }
   },
   "id": "82a1f7c09a66ddd4"
  },
  {
   "cell_type": "code",
   "execution_count": null,
   "outputs": [],
   "source": [
    "post_process_ddpm_sampling(pt_path=r\"C:\\Users\\labuser\\PycharmProjects\\I2SB\\results\\test-run-seg-map-cond\\samples_nfe15\\recon.pt\", run_name = \"test-run-seg-map-cond\",\n",
    "                           iter_name = \"iter_19656\",\n",
    "                           pred_save_path = r\"C:\\Users\\labuser\\Desktop\\dataset_v1_256x256_sample1\\infer\",\n",
    "                           validation_HE_path= r\"C:\\Users\\labuser\\Desktop\\dataset_v1_256x256_sample1\\val\\IHC\")"
   ],
   "metadata": {
    "collapsed": false
   },
   "id": "a71aa197d3cba3b"
  },
  {
   "cell_type": "code",
   "execution_count": 9,
   "outputs": [
    {
     "name": "stderr",
     "output_type": "stream",
     "text": [
      "Number of images: 100%|\u001B[31m██████████\u001B[0m| 7472/7472 [01:50<00:00, 67.39it/s]\n"
     ]
    },
    {
     "name": "stdout",
     "output_type": "stream",
     "text": [
      "Images all successfully saved!\n"
     ]
    }
   ],
   "source": [
    "post_process_ddpm_sampling(pt_path=r\"C:\\Users\\labuser\\PycharmProjects\\I2SB\\results\\HE2IHC_uncond\\samples_nfe62\\recon.pt\", run_name = \"HE2IHC_uncond\",\n",
    "                           iter_name = \"iter_16470\",\n",
    "                           pred_save_path = r\"C:\\Users\\labuser\\Desktop\\HE2IHC_256x256\\infer\",\n",
    "                           validation_HE_path= r\"C:\\Users\\labuser\\Desktop\\HE2IHC_256x256\\val\\HE\")"
   ],
   "metadata": {
    "collapsed": false,
    "ExecuteTime": {
     "end_time": "2024-02-16T14:26:10.614408100Z",
     "start_time": "2024-02-16T14:24:17.723732400Z"
    }
   },
   "id": "9635a1e2a751349"
  },
  {
   "cell_type": "code",
   "execution_count": 4,
   "outputs": [
    {
     "name": "stderr",
     "output_type": "stream",
     "text": [
      "Number of images: 100%|\u001B[31m██████████\u001B[0m| 304/304 [00:03<00:00, 85.77it/s]"
     ]
    },
    {
     "name": "stdout",
     "output_type": "stream",
     "text": [
      "Images all successfully saved!\n"
     ]
    },
    {
     "name": "stderr",
     "output_type": "stream",
     "text": [
      "\n"
     ]
    }
   ],
   "source": [
    "# 3/13\n",
    "post_process_ddpm_sampling(pt_path=r\"C:\\Users\\labuser\\PycharmProjects\\I2SB\\results\\HE2IHC_uncond\\samples_nfe62\\recon.pt\", run_name = \"HE2IHC_uncond\",\n",
    "                           iter_name = \"iter_14640\",\n",
    "                           pred_save_path = r\"C:\\Users\\labuser\\Desktop\\tiles_islet_03072024\\infer\",\n",
    "                           validation_HE_path= r\"C:\\Users\\labuser\\Desktop\\tiles_islet_03072024\\val\\HE\")\n"
   ],
   "metadata": {
    "collapsed": false,
    "ExecuteTime": {
     "end_time": "2024-03-13T18:46:55.467744600Z",
     "start_time": "2024-03-13T18:46:51.818282900Z"
    }
   },
   "id": "2cedc05c01e06d89"
  },
  {
   "cell_type": "code",
   "execution_count": 5,
   "outputs": [
    {
     "name": "stderr",
     "output_type": "stream",
     "text": [
      "Number of images: 100%|\u001B[31m██████████\u001B[0m| 372/372 [00:04<00:00, 84.55it/s] "
     ]
    },
    {
     "name": "stdout",
     "output_type": "stream",
     "text": [
      "Images all successfully saved!\n"
     ]
    },
    {
     "name": "stderr",
     "output_type": "stream",
     "text": [
      "\n"
     ]
    }
   ],
   "source": [
    "# 4/17\n",
    "post_process_ddpm_sampling(pt_path=r\"C:\\Users\\labuser\\PycharmProjects\\I2SB\\results\\HE2IHC_uncond_aug3\\samples_nfe62\\recon.pt\", run_name = \"HE2IHC_uncond_aug3\",\n",
    "                           iter_name = \"iter_14640\",\n",
    "                           pred_save_path = r\"C:\\Users\\labuser\\Desktop\\tiles_islet_03072024_augment_3\\infer\",\n",
    "                           validation_HE_path= r\"C:\\Users\\labuser\\Desktop\\tiles_islet_03072024_augment_3\\val\\HE\")"
   ],
   "metadata": {
    "collapsed": false,
    "ExecuteTime": {
     "end_time": "2024-04-17T17:37:10.121940500Z",
     "start_time": "2024-04-17T17:37:05.586363400Z"
    }
   },
   "id": "7d5d6c16e4ee2505"
  },
  {
   "cell_type": "code",
   "execution_count": null,
   "outputs": [],
   "source": [],
   "metadata": {
    "collapsed": false
   },
   "id": "1b0d0f175224bd82"
  }
 ],
 "metadata": {
  "kernelspec": {
   "display_name": "Python 3",
   "language": "python",
   "name": "python3"
  },
  "language_info": {
   "codemirror_mode": {
    "name": "ipython",
    "version": 2
   },
   "file_extension": ".py",
   "mimetype": "text/x-python",
   "name": "python",
   "nbconvert_exporter": "python",
   "pygments_lexer": "ipython2",
   "version": "2.7.6"
  }
 },
 "nbformat": 4,
 "nbformat_minor": 5
}
