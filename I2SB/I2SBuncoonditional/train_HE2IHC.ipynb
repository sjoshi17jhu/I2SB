{
 "cells": [
  {
   "cell_type": "markdown",
   "source": [
    "### Total of 23456 images, with batch size = 128, appromxiately 183 iterations per epoch, so train for 18300 iterations or 100 epochs:"
   ],
   "metadata": {
    "collapsed": false
   },
   "id": "29d565ee5eaa30be"
  },
  {
   "cell_type": "code",
   "execution_count": null,
   "id": "initial_id",
   "metadata": {
    "collapsed": true
   },
   "outputs": [],
   "source": [
    "python train.py --name \"HE2IHC_uncond\" --num-itr 18300 --lr-step 183 --corrupt \"mixture\" --save-pt-every 1830 --val-every 1830 --image-size 256 --dataset-dir C:\\Users\\labuser\\Desktop\\HE2IHC_256x256 --batch-size 128 --microbatch 1 --beta-max 0.3 --log-dir C:\\Users\\labuser\\PycharmProjects\\I2SB\\logs --log-writer \"wandb\" --wandb-api-key \"056cc8f5fd5428b2d91107a96c0da5f5ae1c3476\" --wandb-user \"chokevin8\""
   ]
  },
  {
   "cell_type": "markdown",
   "source": [],
   "metadata": {
    "collapsed": false
   },
   "id": "5a74f761a2f8d008"
  },
  {
   "cell_type": "code",
   "execution_count": null,
   "outputs": [],
   "source": [
    "# line C:\\Users\\labuser\\Desktop\\tiles_islet_03072024cs            \n",
    "python train.py --name \"HE2IHC_uncond\" --num-itr 3500 --lr-step 35 --corrupt \"mixture\" --save-pt-every 350 --val-every 350 --image-size 256 --dataset-dir C:\\Users\\labuser\\Desktop\\tiles_islet_03072024 --batch-size 128 --microbatch 1 --beta-max 0.3 --log-dir C:\\Users\\labuser\\PycharmProjects\\I2SB\\logs --log-writer \"wandb\" --wandb-api-key \"056cc8f5fd5428b2d91107a96c0da5f5ae1c3476\" --wandb-user \"chokevin8\""
   ],
   "metadata": {
    "collapsed": false
   },
   "id": "51f4f6d2e96c6a31"
  },
  {
   "cell_type": "code",
   "execution_count": 2,
   "outputs": [
    {
     "ename": "SyntaxError",
     "evalue": "invalid syntax (2966704958.py, line 2)",
     "output_type": "error",
     "traceback": [
      "\u001B[1;36m  Cell \u001B[1;32mIn[2], line 2\u001B[1;36m\u001B[0m\n\u001B[1;33m    python train.py --name \"HE2IHC_uncond\" --num-itr 28000 --lr-step 280 --corrupt \"mixture\" --save-pt-every 1400 --val-every 1400 --image-size 256 --dataset-dir C:\\Users\\labuser\\Desktop\\tiles_islet_03072024_augment_8 --batch-size 128 --microbatch 1 --beta-max 0.3 --log-dir C:\\Users\\labuser\\PycharmProjects\\I2SB\\logs --log-writer \"wandb\" --wandb-api-key \"056cc8f5fd5428b2d91107a96c0da5f5ae1c3476\" --wandb-user \"chokevin8\"\u001B[0m\n\u001B[1;37m           ^\u001B[0m\n\u001B[1;31mSyntaxError\u001B[0m\u001B[1;31m:\u001B[0m invalid syntax\n"
     ]
    }
   ],
   "source": [
    "# C:\\Users\\labuser\\Desktop\\tiles_islet_03072024_augment_8\n",
    "python train.py --name \"HE2IHC_uncond\" --num-itr 28000 --lr-step 280 --corrupt \"mixture\" --save-pt-every 2800 --val-every 2800 --image-size 256 --dataset-dir C:\\Users\\labuser\\Desktop\\tiles_islet_03072024_augment_8 --batch-size 128 --microbatch 1 --beta-max 0.3 --log-dir C:\\Users\\labuser\\PycharmProjects\\I2SB\\logs --log-writer \"wandb\" --wandb-api-key \"056cc8f5fd5428b2d91107a96c0da5f5ae1c3476\" --wandb-user \"chokevin8\"\n"
   ],
   "metadata": {
    "collapsed": false,
    "ExecuteTime": {
     "end_time": "2024-03-17T19:42:39.509840100Z",
     "start_time": "2024-03-17T19:42:39.498211600Z"
    }
   },
   "id": "67f79300036b7d19"
  },
  {
   "cell_type": "code",
   "execution_count": null,
   "outputs": [],
   "source": [
    "# C:\\Users\\labuser\\Desktop\\tiles_islet_03072024_augment_4  ==== started: 3/18/24: 21:32 ==== expected: 4/5/24 == end 3/25 == retrain 3/27 === expect: 4/18\n",
    "python train.py --name \"HE2IHC_uncond\" --num-itr 14000 --lr-step 140 --corrupt \"mixture\" --save-pt-every 1400 --val-every 1400 --image-size 256 --dataset-dir C:\\Users\\labuser\\Desktop\\tiles_islet_03072024_augment_4 --batch-size 128 --microbatch 1 --beta-max 0.3 --log-dir C:\\Users\\labuser\\PycharmProjects\\I2SB\\logs --log-writer \"wandb\" --wandb-api-key \"056cc8f5fd5428b2d91107a96c0da5f5ae1c3476\" --wandb-user \"chokevin8\""
   ],
   "metadata": {
    "collapsed": false
   },
   "id": "ca074630976bfae6"
  },
  {
   "cell_type": "code",
   "execution_count": null,
   "outputs": [],
   "source": [
    "# C:\\Users\\labuser\\Desktop\\tiles_islet_03072024_augment_3  ==== started: 4/16 expected\n",
    "python train.py --name \"HE2IHC_uncond_aug3\" --num-itr 10400 --lr-step 104 --corrupt \"mixture\" --save-pt-every 1040 --val-every 1040 --image-size 256 --dataset-dir C:\\Users\\labuser\\Desktop\\tiles_islet_03072024_augment_3 --batch-size 128 --microbatch 1 --beta-max 0.3 --log-dir C:\\Users\\labuser\\PycharmProjects\\I2SB\\logs --log-writer \"wandb\" --wandb-api-key \"056cc8f5fd5428b2d91107a96c0da5f5ae1c3476\" --wandb-user \"chokevin8\""
   ],
   "metadata": {
    "collapsed": false
   },
   "id": "84f7b9c108919d79"
  },
  {
   "cell_type": "code",
   "execution_count": null,
   "outputs": [],
   "source": [],
   "metadata": {
    "collapsed": false
   },
   "id": "df3cdc57cbeb6b30"
  },
  {
   "cell_type": "code",
   "execution_count": null,
   "outputs": [],
   "source": [
    "torch.__version__  \n",
    "print(python.__version__)"
   ],
   "metadata": {
    "collapsed": false
   },
   "id": "60e189429deb4e80"
  }
 ],
 "metadata": {
  "kernelspec": {
   "display_name": "Python 3",
   "language": "python",
   "name": "python3"
  },
  "language_info": {
   "codemirror_mode": {
    "name": "ipython",
    "version": 2
   },
   "file_extension": ".py",
   "mimetype": "text/x-python",
   "name": "python",
   "nbconvert_exporter": "python",
   "pygments_lexer": "ipython2",
   "version": "2.7.6"
  }
 },
 "nbformat": 4,
 "nbformat_minor": 5
}
